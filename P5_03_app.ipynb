{
 "cells": [
  {
   "cell_type": "code",
   "execution_count": 1,
   "metadata": {},
   "outputs": [],
   "source": [
    "from joblib import dump, load\n",
    "import pandas as pd\n",
    "from bs4 import BeautifulSoup\n",
    "import re\n",
    "import nltk\n",
    "from nltk.corpus import stopwords"
   ]
  },
  {
   "cell_type": "code",
   "execution_count": 2,
   "metadata": {},
   "outputs": [],
   "source": [
    "\n",
    "clf = load('Ovsrestrfclassifier.joblib')\n",
    "vectorizer_tfidf = load(\"TFIDF.joblib\")\n",
    "lb = load(\"Labelencoder.joblib\")"
   ]
  },
  {
   "cell_type": "code",
   "execution_count": 3,
   "metadata": {},
   "outputs": [],
   "source": [
    "def review_to_words( raw_review ):\n",
    "    # Function to convert a raw review to a string of words\n",
    "    # The input is a single string (a raw movie review), and \n",
    "    # the output is a single string (a preprocessed movie review)\n",
    "    #\n",
    "    # 1. Remove HTML\n",
    "    review_text = BeautifulSoup(raw_review).get_text() \n",
    "    #\n",
    "    # 2. Remove non-letters        \n",
    "    letters_only = re.sub(\"[^a-zA-Z]\", \" \", review_text) \n",
    "    #\n",
    "    # 3. Convert to lower case, split into individual words\n",
    "    words = letters_only.lower().split()                             \n",
    "    #\n",
    "    # 4. In Python, searching a set is much faster than searching\n",
    "    #   a list, so convert the stop words to a set\n",
    "    stops = set(stopwords.words(\"english\"))                  \n",
    "    # \n",
    "    # 5. Remove stop words\n",
    "    meaningful_words = [w for w in words if not w in stops]   \n",
    "    #\n",
    "    # 6. Join the words back into one string separated by space, \n",
    "    # and return the result.\n",
    "    return( \" \".join( meaningful_words ))   "
   ]
  },
  {
   "cell_type": "code",
   "execution_count": 4,
   "metadata": {},
   "outputs": [],
   "source": [
    "def proba_strong(y_prend):\n",
    "    y_tmp = []\n",
    "    line = y_prend[0]\n",
    "    for x in range(len(y_prend[0])):\n",
    "        max_num = 0\n",
    "        max_it = 0 \n",
    "        if line[x] >= 0.10:\n",
    "            y_tmp.append(x)\n",
    "        if line[x] > max_num:\n",
    "            max_it = x\n",
    "    if y_tmp == []:\n",
    "        y_tmp.append(x) \n",
    "        \n",
    "    return(y_tmp)"
   ]
  },
  {
   "cell_type": "code",
   "execution_count": 5,
   "metadata": {},
   "outputs": [],
   "source": [
    "def transformation_phrase(Data):\n",
    "    \"\"\"Data est de la forme [Titre,body]\"\"\"\n",
    "    Data[0] =  review_to_words(Data[0])\n",
    "    Data[1] = review_to_words(Data[1])\n",
    "    Data.append(Data[1]+\" \"+Data[0]+\" \" +Data[0])\n",
    "    Data.append(vectorizer_tfidf.transform([Data[-1]]))\n",
    "    Data.append(proba_strong(clf.predict_proba(Data[-1])))\n",
    "    Data.append(lb.inverse_transform(Data[-1]))\n",
    "    l = \"\"\n",
    "    for x in Data[-1]:\n",
    "        l = l + str(x)\n",
    "    return(x)\n"
   ]
  },
  {
   "cell_type": "code",
   "execution_count": 6,
   "metadata": {},
   "outputs": [
    {
     "data": {
      "text/plain": [
       "array(['ios'], dtype=object)"
      ]
     },
     "execution_count": 6,
     "metadata": {},
     "output_type": "execute_result"
    }
   ],
   "source": [
    "transformation_phrase([\"Titre ios\",\"Body in java\"])"
   ]
  },
  {
   "cell_type": "code",
   "execution_count": null,
   "metadata": {},
   "outputs": [],
   "source": []
  }
 ],
 "metadata": {
  "kernelspec": {
   "display_name": "Python 3",
   "language": "python",
   "name": "python3"
  },
  "language_info": {
   "codemirror_mode": {
    "name": "ipython",
    "version": 3
   },
   "file_extension": ".py",
   "mimetype": "text/x-python",
   "name": "python",
   "nbconvert_exporter": "python",
   "pygments_lexer": "ipython3",
   "version": "3.8.3"
  }
 },
 "nbformat": 4,
 "nbformat_minor": 4
}
